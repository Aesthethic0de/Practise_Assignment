{
 "cells": [
  {
   "cell_type": "markdown",
   "id": "18b28eff",
   "metadata": {},
   "source": [
    "# Q.1 Write a program which will find all such numbers which are divisible by 7 but are not a multiple of 5, between 2000 and 3200 (both included). The numbers obtained should be printed in a comma-separated sequence on a single line.\n"
   ]
  },
  {
   "cell_type": "code",
   "execution_count": null,
   "id": "c21b7e13",
   "metadata": {},
   "outputs": [],
   "source": [
    "b = []\n",
    "for i in range(2000,3201):\n",
    "    if i % 7 == 0 and  i % 5 != 0:\n",
    "        b.append(i)"
   ]
  },
  {
   "cell_type": "code",
   "execution_count": null,
   "id": "e8890de2",
   "metadata": {
    "scrolled": false
   },
   "outputs": [],
   "source": [
    "b"
   ]
  },
  {
   "cell_type": "markdown",
   "id": "f8dfc1a3",
   "metadata": {},
   "source": [
    "# "
   ]
  },
  {
   "cell_type": "markdown",
   "id": "a43df628",
   "metadata": {},
   "source": [
    "# Q.2 Write a Python program to accept the user's first and last name and then getting them printed in the the reverse order with a space between first name and last name."
   ]
  },
  {
   "cell_type": "code",
   "execution_count": null,
   "id": "c9c5ed26",
   "metadata": {},
   "outputs": [],
   "source": [
    "first = input(\"what is your first name\")"
   ]
  },
  {
   "cell_type": "code",
   "execution_count": null,
   "id": "84d1580a",
   "metadata": {},
   "outputs": [],
   "source": [
    "second = input(\"what is your second name\")"
   ]
  },
  {
   "cell_type": "code",
   "execution_count": null,
   "id": "2ae0786f",
   "metadata": {},
   "outputs": [],
   "source": [
    "print(f\"{first[::-1]} {second[::-1]}\")"
   ]
  },
  {
   "cell_type": "markdown",
   "id": "68180be7",
   "metadata": {},
   "source": [
    "# Q.3 Write a Python program to find the volume of a sphere with diameter 12 cm"
   ]
  },
  {
   "cell_type": "code",
   "execution_count": 1,
   "id": "0e8112d0",
   "metadata": {},
   "outputs": [],
   "source": [
    "def vol_sphere(pi,r):\n",
    "    v = 4/3*pi*r**3\n",
    "    return v"
   ]
  },
  {
   "cell_type": "code",
   "execution_count": 2,
   "id": "54ffb05f",
   "metadata": {},
   "outputs": [],
   "source": [
    "pia = 3.14"
   ]
  },
  {
   "cell_type": "code",
   "execution_count": 4,
   "id": "40f651fe",
   "metadata": {},
   "outputs": [
    {
     "name": "stdout",
     "output_type": "stream",
     "text": [
      "what is the diameter of sphere?12\n"
     ]
    }
   ],
   "source": [
    "diameter = int(input(\"what is the diameter of sphere?\"))"
   ]
  },
  {
   "cell_type": "code",
   "execution_count": 5,
   "id": "28aa65d0",
   "metadata": {},
   "outputs": [],
   "source": [
    "radius = diameter/2"
   ]
  },
  {
   "cell_type": "code",
   "execution_count": 7,
   "id": "9f7539a9",
   "metadata": {},
   "outputs": [],
   "source": [
    "ans = vol_sphere(pi=pia, r = radius)"
   ]
  },
  {
   "cell_type": "code",
   "execution_count": 9,
   "id": "a204c3cc",
   "metadata": {},
   "outputs": [
    {
     "name": "stdout",
     "output_type": "stream",
     "text": [
      "The volume of sphere is 904.3199999999999\n"
     ]
    }
   ],
   "source": [
    "print(f\"The volume of sphere is {ans}\")"
   ]
  },
  {
   "cell_type": "code",
   "execution_count": null,
   "id": "126971fa",
   "metadata": {},
   "outputs": [],
   "source": []
  }
 ],
 "metadata": {
  "kernelspec": {
   "display_name": "Python 3",
   "language": "python",
   "name": "python3"
  },
  "language_info": {
   "codemirror_mode": {
    "name": "ipython",
    "version": 3
   },
   "file_extension": ".py",
   "mimetype": "text/x-python",
   "name": "python",
   "nbconvert_exporter": "python",
   "pygments_lexer": "ipython3",
   "version": "3.8.10"
  }
 },
 "nbformat": 4,
 "nbformat_minor": 5
}
