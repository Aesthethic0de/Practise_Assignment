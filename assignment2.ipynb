{
 "cells": [
  {
   "cell_type": "code",
   "execution_count": 21,
   "metadata": {},
   "outputs": [
    {
     "name": "stdout",
     "output_type": "stream",
     "text": [
      "\n",
      "*\n",
      "**\n",
      "***\n",
      "****\n",
      "*****\n",
      "****\n",
      "***\n",
      "**\n",
      "*\n"
     ]
    }
   ],
   "source": [
    "# Q.1 Create a Bellow Patter using nested for Loop in python\n",
    "\n",
    "\n",
    "n = int(input(\"how many stars you want?\"))\n",
    "\n",
    "\n",
    "for i in range(n):\n",
    "    print(\"*\"*i)\n",
    "\n",
    "\n",
    "for i in range(n,0,-1):\n",
    "    print(\"*\"*i)"
   ]
  },
  {
   "cell_type": "code",
   "execution_count": 41,
   "metadata": {},
   "outputs": [],
   "source": [
    "# Q.2 Write a Python program to reverse a word after accepting the input from the user.\n",
    "def reverse(l):\n",
    "    print(l[::-1])"
   ]
  },
  {
   "cell_type": "code",
   "execution_count": 42,
   "metadata": {},
   "outputs": [
    {
     "name": "stdout",
     "output_type": "stream",
     "text": [
      "norueni\n"
     ]
    }
   ],
   "source": [
    "\n",
    "\n",
    "reverse('ineuron')"
   ]
  }
 ],
 "metadata": {
  "interpreter": {
   "hash": "26c72bef77023665c36ffdec395c19486d12e1b793dc27e680631eaa75c8af65"
  },
  "kernelspec": {
   "display_name": "Python 3.8.12 64-bit ('tgpu': conda)",
   "language": "python",
   "name": "python3"
  },
  "language_info": {
   "codemirror_mode": {
    "name": "ipython",
    "version": 3
   },
   "file_extension": ".py",
   "mimetype": "text/x-python",
   "name": "python",
   "nbconvert_exporter": "python",
   "pygments_lexer": "ipython3",
   "version": "3.8.12"
  },
  "orig_nbformat": 4
 },
 "nbformat": 4,
 "nbformat_minor": 2
}
