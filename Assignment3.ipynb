{
 "cells": [
  {
   "cell_type": "code",
   "execution_count": 34,
   "metadata": {},
   "outputs": [],
   "source": [
    "# 1.1 Write a Python Program to implement your own myreduce() function which works exactly like Python's built-in function reduce()\n",
    "\n",
    "def myreduce(n):\n",
    "    n_list = list(range(1,number+1))\n",
    "    sum_n = 0\n",
    "\n",
    "    for i in n_list:\n",
    "        sum_n+=i\n",
    "    return sum_n\n",
    "\n",
    "number = int(input(\"\"))\n",
    "\n",
    "o = myreduce(n=number)\n",
    "\n",
    "\n"
   ]
  },
  {
   "cell_type": "code",
   "execution_count": 96,
   "metadata": {},
   "outputs": [
    {
     "name": "stdout",
     "output_type": "stream",
     "text": [
      " the filtered even numbers are [38, 32, 16, 36, 4, 44, 14, 22, 40, 30, 48] and filtered odd numbers are [13, 11, 47, 15, 17, 5, 9, 19, 39] \n"
     ]
    }
   ],
   "source": [
    "# 1.2 Write a Python program to implement your own myfilter() function which works exactly like Python's built-in function filter()\n",
    "\n",
    "import random\n",
    "\n",
    "res = random.sample(range(1,50),20)\n",
    "\n",
    "\n",
    "def myfilter(res):\n",
    "    n_even = []\n",
    "    n_odd = []\n",
    "\n",
    "    for i in res:\n",
    "        if(i%2==0):\n",
    "            n_even.append(i)\n",
    "        else:\n",
    "            n_odd.append(i)\n",
    "    \n",
    "    return n_even, n_odd\n",
    "\n",
    "\n",
    "p = myfilter(res=res)\n",
    "\n",
    "print(f\" the filtered even numbers are {p[0]} and filtered odd numbers are {p[1]} \")\n"
   ]
  },
  {
   "cell_type": "code",
   "execution_count": 118,
   "metadata": {},
   "outputs": [
    {
     "name": "stdout",
     "output_type": "stream",
     "text": [
      "x\n",
      "xx\n",
      "xxx\n",
      "xxxx\n"
     ]
    }
   ],
   "source": [
    "# 2 Implement List comprehensions to produce the following lists. 1. ['x', 'xx', 'xxx', 'xxxx', 'y', 'yy', 'yyy', 'yyyy', 'z', 'zz', 'zzz', 'zzzz']\n",
    "#  by usual method\n",
    "k = []\n",
    "\n",
    "for i in range(1,5):\n",
    "    print(\"x\"*i)\n",
    "    k.append(\"x\"*i)\n",
    "    \n",
    "for j in range(1,5):\n",
    "    k.append(\"y\"*j)\n",
    "\n",
    "for l in range(1,5):\n",
    "    k.append(\"z\"*l)\n"
   ]
  },
  {
   "cell_type": "code",
   "execution_count": 125,
   "metadata": {},
   "outputs": [],
   "source": [
    "# now using list comprehension:\n",
    "# problem 1\n",
    "\n",
    "\n",
    "word = \"AcadGild\"\n",
    "word_o = [w.upper() for w in list(word)]\n",
    "print(word_o)\n",
    "\n"
   ]
  },
  {
   "cell_type": "code",
   "execution_count": 128,
   "metadata": {},
   "outputs": [
    {
     "data": {
      "text/plain": [
       "['x', 'xx', 'xxx', 'xxxx', 'y', 'yy', 'yyy', 'yyyy', 'z', 'zz', 'zzz', 'zzzz']"
      ]
     },
     "execution_count": 128,
     "metadata": {},
     "output_type": "execute_result"
    }
   ],
   "source": [
    "# problem 2\n",
    "\n",
    "word_1 = list('xyz')\n",
    "word_1_o = [x*n for x in word_1 for n in range(1,5)]\n",
    "print(word_1_o)"
   ]
  },
  {
   "cell_type": "code",
   "execution_count": 131,
   "metadata": {},
   "outputs": [
    {
     "name": "stdout",
     "output_type": "stream",
     "text": [
      "['x', 'y', 'z', 'xx', 'yy', 'zz', 'xxx', 'yyy', 'zzz', 'xxxx', 'yyyy', 'zzzz']\n"
     ]
    }
   ],
   "source": [
    "# problem 3\n",
    "\n",
    "word_2 = [x*n for n in range(1,5) for x in word_1]\n",
    "print(word_2)"
   ]
  },
  {
   "cell_type": "code",
   "execution_count": 137,
   "metadata": {},
   "outputs": [
    {
     "name": "stdout",
     "output_type": "stream",
     "text": [
      "[[2], [3], [4], [3], [4], [5], [4], [5], [6]]\n"
     ]
    }
   ],
   "source": [
    "# problem 4\n",
    "\n",
    "number = [2,3,4]\n",
    "n_o = [[x+n] for x in number for n in range(0,3)]\n",
    "print(n_o)"
   ]
  },
  {
   "cell_type": "code",
   "execution_count": 150,
   "metadata": {},
   "outputs": [
    {
     "data": {
      "text/plain": [
       "[[2, 3, 4, 5], [3, 4, 5, 6], [4, 5, 6, 7]]"
      ]
     },
     "execution_count": 150,
     "metadata": {},
     "output_type": "execute_result"
    }
   ],
   "source": [
    "#  problem 5\n",
    "\n",
    "number_1 = [2,3,4,5]\n",
    "number_1_o = [[x+n for n in range(0,4) ]for x in number ]\n",
    "number_1_o"
   ]
  },
  {
   "cell_type": "code",
   "execution_count": 162,
   "metadata": {},
   "outputs": [
    {
     "name": "stdout",
     "output_type": "stream",
     "text": [
      "[[2, 3, 4, 5], [3, 4, 5, 6], [4, 5, 6, 7]]\n"
     ]
    }
   ],
   "source": [
    "#  problem 6 \n",
    "\n",
    "number_2 = (1,2,3)\n",
    "number_2_o = [(y,x) for x in number_2 for y in number_2 ]\n",
    "print(number_1_o)\n"
   ]
  }
 ],
 "metadata": {
  "interpreter": {
   "hash": "26c72bef77023665c36ffdec395c19486d12e1b793dc27e680631eaa75c8af65"
  },
  "kernelspec": {
   "display_name": "Python 3.8.12 64-bit ('tgpu': conda)",
   "language": "python",
   "name": "python3"
  },
  "language_info": {
   "codemirror_mode": {
    "name": "ipython",
    "version": 3
   },
   "file_extension": ".py",
   "mimetype": "text/x-python",
   "name": "python",
   "nbconvert_exporter": "python",
   "pygments_lexer": "ipython3",
   "version": "3.8.12"
  },
  "orig_nbformat": 4
 },
 "nbformat": 4,
 "nbformat_minor": 2
}
